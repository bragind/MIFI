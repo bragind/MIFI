{
  "cells": [
    {
      "cell_type": "markdown",
      "metadata": {
        "id": "view-in-github",
        "colab_type": "text"
      },
      "source": [
        "<a href=\"https://colab.research.google.com/github/bragind/MIFI/blob/main/Module_1_Matrix_Mult_screencast.ipynb\" target=\"_parent\"><img src=\"https://colab.research.google.com/assets/colab-badge.svg\" alt=\"Open In Colab\"/></a>"
      ]
    },
    {
      "cell_type": "code",
      "execution_count": null,
      "metadata": {
        "collapsed": true,
        "id": "lH7-61HmwR7_"
      },
      "outputs": [],
      "source": [
        "import numpy as np"
      ]
    },
    {
      "cell_type": "code",
      "execution_count": null,
      "metadata": {
        "collapsed": true,
        "id": "PmJzk56TwR8I"
      },
      "outputs": [],
      "source": [
        "# произведение матриц\n",
        "A=np.random.randint(5, 12, (3,3))\n",
        "B=np.random.randint(-2, 4, (3,3))"
      ]
    },
    {
      "cell_type": "code",
      "execution_count": null,
      "metadata": {
        "id": "TV7pRcecwR8L"
      },
      "outputs": [],
      "source": [
        "A"
      ]
    },
    {
      "cell_type": "code",
      "execution_count": null,
      "metadata": {
        "id": "IqtkSBDFwR8M"
      },
      "outputs": [],
      "source": [
        "B"
      ]
    },
    {
      "cell_type": "code",
      "execution_count": null,
      "metadata": {
        "id": "iZclvebdwR8N"
      },
      "outputs": [],
      "source": [
        "# Поэлементное умножение\n",
        "A*B"
      ]
    },
    {
      "cell_type": "code",
      "execution_count": null,
      "metadata": {
        "id": "F3mclc82wR8O"
      },
      "outputs": [],
      "source": [
        "# тип np.matrix\n",
        "A_m=np.matrix(A)\n",
        "B_m=np.matrix(B)\n",
        "print(A_m*B_m)"
      ]
    },
    {
      "cell_type": "code",
      "execution_count": null,
      "metadata": {
        "id": "KC3biS7TwR8P"
      },
      "outputs": [],
      "source": [
        "# Матричное умножение\n",
        "np.dot(A,B)"
      ]
    },
    {
      "cell_type": "code",
      "execution_count": null,
      "metadata": {
        "id": "5_dlb4PAwR8Q"
      },
      "outputs": [],
      "source": [
        "# Матричное умножение\n",
        "A@B"
      ]
    },
    {
      "cell_type": "code",
      "execution_count": null,
      "metadata": {
        "id": "QoGOuhRwwR8R"
      },
      "outputs": [],
      "source": [
        "# Порядок умножения AB != BA\n",
        "B@A"
      ]
    },
    {
      "cell_type": "code",
      "execution_count": null,
      "metadata": {
        "id": "Mia9HcVvwR8S"
      },
      "outputs": [],
      "source": [
        "# Умножение прямоугольных матриц возможно не в любом порядке\n",
        "A=np.random.randint(5, 12, (3,5))\n",
        "B=np.random.randint(-2, 4, (5,2))\n",
        "print('A:\\n',A)\n",
        "print('B:\\n',B)"
      ]
    },
    {
      "cell_type": "code",
      "execution_count": null,
      "metadata": {
        "id": "nHfsdzHjwR8T"
      },
      "outputs": [],
      "source": [
        "# Умножение прямоугольных матриц возможно не в любом порядке\n",
        "A@B"
      ]
    },
    {
      "cell_type": "code",
      "execution_count": null,
      "metadata": {
        "id": "e3CohyBUwR8T"
      },
      "outputs": [],
      "source": [
        "# Умножение прямоугольных матриц возможно не в любом порядке\n",
        "B@A"
      ]
    },
    {
      "cell_type": "code",
      "execution_count": null,
      "metadata": {
        "id": "o0DVzBpdwR8T"
      },
      "outputs": [],
      "source": [
        "# размер произведения матриц\n",
        "print('shape of A:', np.shape(A))\n",
        "print('shape of B:', np.shape(B))\n",
        "print('shape of AB:', np.shape(A@B))"
      ]
    },
    {
      "cell_type": "code",
      "execution_count": null,
      "metadata": {
        "id": "kxwT23FdwR8U"
      },
      "outputs": [],
      "source": [
        "# умножение на специальные матрицы\n",
        "A=np.random.randint(-4, 4, (4,4))\n",
        "D=np.diag([1,2,0,-1])\n",
        "print('A:\\n',A)\n",
        "print('D:\\n',D)\n",
        "print('AD:\\n',A@D)\n",
        "print('DA:\\n',D@A)"
      ]
    },
    {
      "cell_type": "code",
      "execution_count": null,
      "metadata": {
        "id": "6B3ZithwwR8U"
      },
      "outputs": [],
      "source": [
        "# умножение на одномерный массив numpy\n",
        "A=np.array([[1,0,1],[1,1,1]])\n",
        "b=np.array([-3,4,5])\n",
        "A@b"
      ]
    },
    {
      "cell_type": "code",
      "execution_count": null,
      "metadata": {
        "id": "CpcoexBJwR8V"
      },
      "outputs": [],
      "source": [
        "b@A"
      ]
    },
    {
      "cell_type": "code",
      "execution_count": null,
      "metadata": {
        "id": "b7i6PnQmwR8V"
      },
      "outputs": [],
      "source": [
        "# матрица Грама ортогональной системы векторов\n",
        "x=np.array([1,1,1])\n",
        "y=np.array([1,0,-1])\n",
        "z=np.array([-1,2,-1])\n",
        "A=np.array([x,y,z])\n",
        "print (A, type(A))"
      ]
    },
    {
      "cell_type": "code",
      "execution_count": null,
      "metadata": {
        "id": "f3g-DzOcwR8W"
      },
      "outputs": [],
      "source": [
        "# матрица Грама ортогональной системы векторов\n",
        "A@A.T"
      ]
    },
    {
      "cell_type": "code",
      "execution_count": null,
      "metadata": {
        "id": "1CZiVl-rwR8W"
      },
      "outputs": [],
      "source": [
        "# матрица Грама ортонормированной системы векторов\n",
        "x_norm=x/np.linalg.norm(x)\n",
        "y_norm=y/np.linalg.norm(y)\n",
        "z_norm=z/np.linalg.norm(z)\n",
        "A_norm=np.array([x_norm,y_norm,z_norm])\n",
        "print (A_norm, type(A_norm))"
      ]
    },
    {
      "cell_type": "code",
      "execution_count": null,
      "metadata": {
        "id": "35i6h9USwR8X"
      },
      "outputs": [],
      "source": [
        "# матрица Грама ортонормированной системы векторов\n",
        "A_norm@A_norm.T"
      ]
    },
    {
      "cell_type": "code",
      "execution_count": null,
      "metadata": {
        "id": "IVS2ybC6wR8X"
      },
      "outputs": [],
      "source": [
        "# ортонормированные системы рулят! :)\n",
        "np.round(A_norm@A_norm.T,1)"
      ]
    }
  ],
  "metadata": {
    "kernelspec": {
      "display_name": "Python 3",
      "language": "python",
      "name": "python3"
    },
    "language_info": {
      "codemirror_mode": {
        "name": "ipython",
        "version": 3
      },
      "file_extension": ".py",
      "mimetype": "text/x-python",
      "name": "python",
      "nbconvert_exporter": "python",
      "pygments_lexer": "ipython3",
      "version": "3.6.0"
    },
    "colab": {
      "provenance": [],
      "include_colab_link": true
    }
  },
  "nbformat": 4,
  "nbformat_minor": 0
}