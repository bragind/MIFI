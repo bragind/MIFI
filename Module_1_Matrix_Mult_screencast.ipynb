{
  "cells": [
    {
      "cell_type": "markdown",
      "metadata": {
        "id": "view-in-github",
        "colab_type": "text"
      },
      "source": [
        "<a href=\"https://colab.research.google.com/github/bragind/MIFI/blob/main/Module_1_Matrix_Mult_screencast.ipynb\" target=\"_parent\"><img src=\"https://colab.research.google.com/assets/colab-badge.svg\" alt=\"Open In Colab\"/></a>"
      ]
    },
    {
      "cell_type": "code",
      "execution_count": 1,
      "metadata": {
        "collapsed": true,
        "id": "lH7-61HmwR7_"
      },
      "outputs": [],
      "source": [
        "import numpy as np"
      ]
    },
    {
      "cell_type": "code",
      "execution_count": null,
      "metadata": {
        "collapsed": true,
        "id": "PmJzk56TwR8I"
      },
      "outputs": [],
      "source": [
        "# произведение матриц\n",
        "A=np.random.randint(5, 12, (3,3))\n",
        "B=np.random.randint(-2, 4, (3,3))"
      ]
    },
    {
      "cell_type": "code",
      "execution_count": 3,
      "metadata": {
        "colab": {
          "base_uri": "https://localhost:8080/",
          "height": 141
        },
        "id": "TV7pRcecwR8L",
        "outputId": "fff35437-d7b3-4da6-e550-d48df2a0d532"
      },
      "outputs": [
        {
          "output_type": "error",
          "ename": "NameError",
          "evalue": "name 'A' is not defined",
          "traceback": [
            "\u001b[0;31m---------------------------------------------------------------------------\u001b[0m",
            "\u001b[0;31mNameError\u001b[0m                                 Traceback (most recent call last)",
            "\u001b[0;32m<ipython-input-3-7d157d7c000a>\u001b[0m in \u001b[0;36m<cell line: 1>\u001b[0;34m()\u001b[0m\n\u001b[0;32m----> 1\u001b[0;31m \u001b[0mA\u001b[0m\u001b[0;34m\u001b[0m\u001b[0;34m\u001b[0m\u001b[0m\n\u001b[0m",
            "\u001b[0;31mNameError\u001b[0m: name 'A' is not defined"
          ]
        }
      ],
      "source": [
        "A"
      ]
    },
    {
      "cell_type": "code",
      "execution_count": null,
      "metadata": {
        "id": "IqtkSBDFwR8M"
      },
      "outputs": [],
      "source": [
        "B"
      ]
    },
    {
      "cell_type": "code",
      "execution_count": null,
      "metadata": {
        "id": "iZclvebdwR8N"
      },
      "outputs": [],
      "source": [
        "# Поэлементное умножение\n",
        "A*B"
      ]
    },
    {
      "cell_type": "code",
      "execution_count": null,
      "metadata": {
        "id": "F3mclc82wR8O"
      },
      "outputs": [],
      "source": [
        "# тип np.matrix\n",
        "A_m=np.matrix(A)\n",
        "B_m=np.matrix(B)\n",
        "print(A_m*B_m)"
      ]
    },
    {
      "cell_type": "code",
      "execution_count": null,
      "metadata": {
        "id": "KC3biS7TwR8P"
      },
      "outputs": [],
      "source": [
        "# Матричное умножение\n",
        "np.dot(A,B)"
      ]
    },
    {
      "cell_type": "code",
      "execution_count": null,
      "metadata": {
        "id": "5_dlb4PAwR8Q"
      },
      "outputs": [],
      "source": [
        "# Матричное умножение\n",
        "A@B"
      ]
    },
    {
      "cell_type": "code",
      "execution_count": null,
      "metadata": {
        "id": "QoGOuhRwwR8R"
      },
      "outputs": [],
      "source": [
        "# Порядок умножения AB != BA\n",
        "B@A"
      ]
    },
    {
      "cell_type": "code",
      "execution_count": null,
      "metadata": {
        "id": "Mia9HcVvwR8S"
      },
      "outputs": [],
      "source": [
        "# Умножение прямоугольных матриц возможно не в любом порядке\n",
        "A=np.random.randint(5, 12, (3,5))\n",
        "B=np.random.randint(-2, 4, (5,2))\n",
        "print('A:\\n',A)\n",
        "print('B:\\n',B)"
      ]
    },
    {
      "cell_type": "code",
      "execution_count": null,
      "metadata": {
        "id": "nHfsdzHjwR8T"
      },
      "outputs": [],
      "source": [
        "# Умножение прямоугольных матриц возможно не в любом порядке\n",
        "A@B"
      ]
    },
    {
      "cell_type": "code",
      "execution_count": null,
      "metadata": {
        "id": "e3CohyBUwR8T"
      },
      "outputs": [],
      "source": [
        "# Умножение прямоугольных матриц возможно не в любом порядке\n",
        "B@A"
      ]
    },
    {
      "cell_type": "code",
      "execution_count": null,
      "metadata": {
        "id": "o0DVzBpdwR8T"
      },
      "outputs": [],
      "source": [
        "# размер произведения матриц\n",
        "print('shape of A:', np.shape(A))\n",
        "print('shape of B:', np.shape(B))\n",
        "print('shape of AB:', np.shape(A@B))"
      ]
    },
    {
      "cell_type": "code",
      "execution_count": null,
      "metadata": {
        "id": "kxwT23FdwR8U"
      },
      "outputs": [],
      "source": [
        "# умножение на специальные матрицы\n",
        "A=np.random.randint(-4, 4, (4,4))\n",
        "D=np.diag([1,2,0,-1])\n",
        "print('A:\\n',A)\n",
        "print('D:\\n',D)\n",
        "print('AD:\\n',A@D)\n",
        "print('DA:\\n',D@A)"
      ]
    },
    {
      "cell_type": "code",
      "execution_count": null,
      "metadata": {
        "id": "6B3ZithwwR8U"
      },
      "outputs": [],
      "source": [
        "# умножение на одномерный массив numpy\n",
        "A=np.array([[1,0,1],[1,1,1]])\n",
        "b=np.array([-3,4,5])\n",
        "A@b"
      ]
    },
    {
      "cell_type": "code",
      "execution_count": null,
      "metadata": {
        "id": "CpcoexBJwR8V"
      },
      "outputs": [],
      "source": [
        "b@A"
      ]
    },
    {
      "cell_type": "code",
      "execution_count": null,
      "metadata": {
        "id": "b7i6PnQmwR8V"
      },
      "outputs": [],
      "source": [
        "# матрица Грама ортогональной системы векторов\n",
        "x=np.array([1,1,1])\n",
        "y=np.array([1,0,-1])\n",
        "z=np.array([-1,2,-1])\n",
        "A=np.array([x,y,z])\n",
        "print (A, type(A))"
      ]
    },
    {
      "cell_type": "code",
      "execution_count": null,
      "metadata": {
        "id": "f3g-DzOcwR8W"
      },
      "outputs": [],
      "source": [
        "# матрица Грама ортогональной системы векторов\n",
        "A@A.T"
      ]
    },
    {
      "cell_type": "code",
      "execution_count": null,
      "metadata": {
        "id": "1CZiVl-rwR8W"
      },
      "outputs": [],
      "source": [
        "# матрица Грама ортонормированной системы векторов\n",
        "x_norm=x/np.linalg.norm(x)\n",
        "y_norm=y/np.linalg.norm(y)\n",
        "z_norm=z/np.linalg.norm(z)\n",
        "A_norm=np.array([x_norm,y_norm,z_norm])\n",
        "print (A_norm, type(A_norm))"
      ]
    },
    {
      "cell_type": "code",
      "execution_count": null,
      "metadata": {
        "id": "35i6h9USwR8X"
      },
      "outputs": [],
      "source": [
        "# матрица Грама ортонормированной системы векторов\n",
        "A_norm@A_norm.T"
      ]
    },
    {
      "cell_type": "code",
      "execution_count": null,
      "metadata": {
        "id": "IVS2ybC6wR8X"
      },
      "outputs": [],
      "source": [
        "# ортонормированные системы рулят! :)\n",
        "np.round(A_norm@A_norm.T,1)"
      ]
    },
    {
      "cell_type": "code",
      "source": [
        "'''\n",
        "Даны матрица А и вектор\n",
        "х\n",
        ":\n",
        "\n",
        "A = np.array([[5,-1,3,1,2], [-2,8,5,-1,1]])\n",
        "x = np.array([1,2,3,4,5])\n",
        "Найдите произведение матрицы  и вектора\n",
        "х\n",
        " в том порядке, в котором их можно умножить.\n",
        "\n",
        "В качестве ответа запишите координаты получившегося вектора через запятую, без пробелов.\n",
        "'''\n",
        "import numpy as np\n",
        "\n",
        "# Заданная матрица\n",
        "A = np.array([[5, -1, 3, 1, 2],\n",
        "              [-2, 8, 5, -1, 1]])\n",
        "\n",
        "# Заданный вектор\n",
        "x = np.array([1, 2, 3, 4, 5])\n",
        "\n",
        "# Произведение матрицы и вектора\n",
        "result = np.dot(A, x)\n",
        "\n",
        "# Преобразование результата в строку с разделением координат запятой\n",
        "answer = \",\".join(map(str, result))\n",
        "\n",
        "print(answer)"
      ],
      "metadata": {
        "colab": {
          "base_uri": "https://localhost:8080/"
        },
        "id": "Hy4HhPZYxG47",
        "outputId": "75d0df2d-a509-49cf-a275-eceefc63348c"
      },
      "execution_count": 4,
      "outputs": [
        {
          "output_type": "stream",
          "name": "stdout",
          "text": [
            "26,30\n"
          ]
        }
      ]
    },
    {
      "cell_type": "code",
      "source": [
        "'''\n",
        "Даны две матрицы:\n",
        "\n",
        "A = np.array([[1,9,8,5], [3,6,3,2], [3,3,3,3], [0,2,5,9], [4,4,1,2]])\n",
        "B = np.array([[1,-1,0,1,1], [-2,0,2,-1,1]])\n",
        "Найдите произведение матриц  и  в том порядке, в котором их можно умножить.\n",
        "\n",
        "В качестве ответа через запятую, без пробелов запишите элемент чётвертого столбца первой строки.\n",
        "'''\n",
        "import numpy as np\n",
        "\n",
        "# Заданные матрицы\n",
        "A = np.array([[1, 9, 8, 5], [3, 6, 3, 2], [3, 3, 3, 3], [0, 2, 5, 9], [4, 4, 1, 2]])\n",
        "B = np.array([[1, -1, 0, 1, 1], [-2, 0, 2, -1, 1]])\n",
        "\n",
        "# Произведение матриц\n",
        "C = np.matmul(A, B)\n",
        "\n",
        "# Элемент четвёртого столбца первой строки\n",
        "element = C[0, 3]\n",
        "\n",
        "print(element)"
      ],
      "metadata": {
        "colab": {
          "base_uri": "https://localhost:8080/",
          "height": 211
        },
        "id": "fzF49kjLxp3N",
        "outputId": "5e33ec37-5648-4550-feee-baeae39d883e"
      },
      "execution_count": 5,
      "outputs": [
        {
          "output_type": "error",
          "ename": "ValueError",
          "evalue": "matmul: Input operand 1 has a mismatch in its core dimension 0, with gufunc signature (n?,k),(k,m?)->(n?,m?) (size 2 is different from 4)",
          "traceback": [
            "\u001b[0;31m---------------------------------------------------------------------------\u001b[0m",
            "\u001b[0;31mValueError\u001b[0m                                Traceback (most recent call last)",
            "\u001b[0;32m<ipython-input-5-19064ae19902>\u001b[0m in \u001b[0;36m<cell line: 17>\u001b[0;34m()\u001b[0m\n\u001b[1;32m     15\u001b[0m \u001b[0;34m\u001b[0m\u001b[0m\n\u001b[1;32m     16\u001b[0m \u001b[0;31m# Произведение матриц\u001b[0m\u001b[0;34m\u001b[0m\u001b[0;34m\u001b[0m\u001b[0m\n\u001b[0;32m---> 17\u001b[0;31m \u001b[0mC\u001b[0m \u001b[0;34m=\u001b[0m \u001b[0mnp\u001b[0m\u001b[0;34m.\u001b[0m\u001b[0mmatmul\u001b[0m\u001b[0;34m(\u001b[0m\u001b[0mA\u001b[0m\u001b[0;34m,\u001b[0m \u001b[0mB\u001b[0m\u001b[0;34m)\u001b[0m\u001b[0;34m\u001b[0m\u001b[0;34m\u001b[0m\u001b[0m\n\u001b[0m\u001b[1;32m     18\u001b[0m \u001b[0;34m\u001b[0m\u001b[0m\n\u001b[1;32m     19\u001b[0m \u001b[0;31m# Элемент четвёртого столбца первой строки\u001b[0m\u001b[0;34m\u001b[0m\u001b[0;34m\u001b[0m\u001b[0m\n",
            "\u001b[0;31mValueError\u001b[0m: matmul: Input operand 1 has a mismatch in its core dimension 0, with gufunc signature (n?,k),(k,m?)->(n?,m?) (size 2 is different from 4)"
          ]
        }
      ]
    }
  ],
  "metadata": {
    "kernelspec": {
      "display_name": "Python 3",
      "language": "python",
      "name": "python3"
    },
    "language_info": {
      "codemirror_mode": {
        "name": "ipython",
        "version": 3
      },
      "file_extension": ".py",
      "mimetype": "text/x-python",
      "name": "python",
      "nbconvert_exporter": "python",
      "pygments_lexer": "ipython3",
      "version": "3.6.0"
    },
    "colab": {
      "provenance": [],
      "include_colab_link": true
    }
  },
  "nbformat": 4,
  "nbformat_minor": 0
}